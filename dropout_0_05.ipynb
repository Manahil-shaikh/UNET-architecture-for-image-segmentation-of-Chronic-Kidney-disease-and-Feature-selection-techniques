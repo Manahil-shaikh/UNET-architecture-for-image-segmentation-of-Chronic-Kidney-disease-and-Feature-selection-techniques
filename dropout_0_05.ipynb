{
  "cells": [
    {
      "cell_type": "code",
      "execution_count": null,
      "id": "41b191ff",
      "metadata": {
        "_cell_guid": "b1076dfc-b9ad-4769-8c92-a6c4dae69d19",
        "_uuid": "8f2839f25d086af736a60e9eeb907d3b93b6e0e5",
        "execution": {
          "iopub.execute_input": "2022-12-03T16:08:19.243057Z",
          "iopub.status.busy": "2022-12-03T16:08:19.241876Z",
          "iopub.status.idle": "2022-12-03T16:08:19.254857Z",
          "shell.execute_reply": "2022-12-03T16:08:19.254052Z"
        },
        "papermill": {
          "duration": 0.021565,
          "end_time": "2022-12-03T16:08:19.256850",
          "exception": false,
          "start_time": "2022-12-03T16:08:19.235285",
          "status": "completed"
        },
        "tags": [],
        "id": "41b191ff"
      },
      "outputs": [],
      "source": [
        "path=\"/kaggle/input/kidneykits19/PNG_Slices_Segmented/PNG_Slices_Segmented/\"\n",
        "#path=\"../input/kidney/PNG_Slices_Segmented/PNG_Slices_Segmented/\""
      ]
    },
    {
      "cell_type": "code",
      "execution_count": null,
      "id": "3fd5d5d7",
      "metadata": {
        "execution": {
          "iopub.execute_input": "2022-12-03T16:08:19.264601Z",
          "iopub.status.busy": "2022-12-03T16:08:19.264072Z",
          "iopub.status.idle": "2022-12-03T16:08:25.395119Z",
          "shell.execute_reply": "2022-12-03T16:08:25.394161Z"
        },
        "papermill": {
          "duration": 6.137293,
          "end_time": "2022-12-03T16:08:25.397483",
          "exception": false,
          "start_time": "2022-12-03T16:08:19.260190",
          "status": "completed"
        },
        "tags": [],
        "id": "3fd5d5d7"
      },
      "outputs": [],
      "source": [
        "import os\n",
        "from glob import glob\n",
        "from sklearn.model_selection import train_test_split\n",
        "from tensorflow.keras.layers import Conv2D, BatchNormalization, Activation, MaxPool2D, Conv2DTranspose, Concatenate, Input,Dropout\n",
        "from tensorflow.keras.models import Model\n",
        "\n",
        "from tensorflow.keras.callbacks import ModelCheckpoint, CSVLogger, ReduceLROnPlateau, EarlyStopping, TensorBoard\n",
        "from tensorflow.keras.optimizers import Adam\n",
        "from tensorflow.keras.metrics import Recall, Precision,Accuracy\n",
        "\n",
        "os.environ[\"TF_CPP_MIN_LOG_LEVEL\"] = \"2\"\n",
        "import numpy as np\n",
        "import cv2\n",
        "from glob import glob\n",
        "from sklearn.utils import shuffle\n",
        "import tensorflow as tf\n",
        "H=256\n",
        "W=256\n",
        "dim=(H,W)"
      ]
    },
    {
      "cell_type": "code",
      "execution_count": null,
      "id": "89caf4a8",
      "metadata": {
        "execution": {
          "iopub.execute_input": "2022-12-03T16:08:25.407073Z",
          "iopub.status.busy": "2022-12-03T16:08:25.405885Z",
          "iopub.status.idle": "2022-12-03T16:08:25.417872Z",
          "shell.execute_reply": "2022-12-03T16:08:25.417051Z"
        },
        "papermill": {
          "duration": 0.018934,
          "end_time": "2022-12-03T16:08:25.420072",
          "exception": false,
          "start_time": "2022-12-03T16:08:25.401138",
          "status": "completed"
        },
        "tags": [],
        "id": "89caf4a8"
      },
      "outputs": [],
      "source": [
        "def load_data(file_path):\n",
        "    #Loading the image files\n",
        "    images = sorted(glob(f\"{file_path}/*/Images/*.png\"))\n",
        "    segmentations=sorted(glob(f\"{file_path}/*/Segmentation/*.png\"))\n",
        "    print(len(images),len(segmentations))\n",
        "\n",
        "\n",
        "  # #Spliting the data into training and testing using builtin libraries\n",
        "    split=0.3\n",
        "    split_size = int(len(images) * split)\n",
        "    train_x, valid_x = train_test_split(images, test_size=split_size, random_state=42)\n",
        "    train_y, valid_y = train_test_split(segmentations, test_size=split_size, random_state=42)\n",
        "\n",
        "    return (train_x, train_y), (valid_x, valid_y)\n",
        " \n",
        "\n",
        "\n",
        "def read_image(path):\n",
        "    path = path.decode()\n",
        "    x = cv2.imread(path, cv2.IMREAD_COLOR)\n",
        "    x=cv2.resize(x, dim)\n",
        "    x = x/255.0\n",
        "    x = x.astype(np.float32)\n",
        "    return x\n",
        "\n",
        "def read_mask(path):\n",
        "    path = path.decode()\n",
        "    x = cv2.imread(path, cv2.IMREAD_GRAYSCALE)\n",
        "    x=cv2.resize(x, dim)\n",
        "    x = x/255.0\n",
        "    x = x > 0.5\n",
        "    x = x.astype(np.float32)\n",
        "    x = np.expand_dims(x, axis=-1)\n",
        "    return x\n",
        "\n",
        "def shuffling(x, y):\n",
        "    x, y = shuffle(x, y, random_state=42)\n",
        "    return x, y\n",
        "\n",
        "def tf_parse(x, y):\n",
        "    def _parse(x, y):\n",
        "        x = read_image(x)\n",
        "        y = read_mask(y)\n",
        "        return x, y\n",
        "\n",
        "    x, y = tf.numpy_function(_parse, [x, y], [tf.float32, tf.float32])\n",
        "    x.set_shape([H, W, 3])\n",
        "    y.set_shape([H, W, 1])\n",
        "    return x, y\n",
        "\n",
        "def tf_dataset(x, y, batch=8):\n",
        "    dataset = tf.data.Dataset.from_tensor_slices((x, y))\n",
        "    dataset = dataset.map(tf_parse)\n",
        "    dataset = dataset.batch(batch)\n",
        "    dataset = dataset.prefetch(10)\n",
        "    return dataset\n"
      ]
    },
    {
      "cell_type": "code",
      "execution_count": null,
      "id": "0ec43504",
      "metadata": {
        "execution": {
          "iopub.execute_input": "2022-12-03T16:08:25.427667Z",
          "iopub.status.busy": "2022-12-03T16:08:25.427405Z",
          "iopub.status.idle": "2022-12-03T16:08:38.237689Z",
          "shell.execute_reply": "2022-12-03T16:08:38.235748Z"
        },
        "papermill": {
          "duration": 12.816589,
          "end_time": "2022-12-03T16:08:38.239810",
          "exception": false,
          "start_time": "2022-12-03T16:08:25.423221",
          "status": "completed"
        },
        "tags": [],
        "id": "0ec43504",
        "outputId": "4ebd05cf-867c-43ee-e8a5-9f9080dbb082"
      },
      "outputs": [
        {
          "name": "stdout",
          "output_type": "stream",
          "text": [
            "45079 45079\n",
            "31556 31556\n",
            "13523 13523\n"
          ]
        }
      ],
      "source": [
        "(train_x, train_y), (valid_x, valid_y) = load_data(path)\n",
        "print(len(train_x),len(train_y))\n",
        "print(len(valid_x),len(valid_y))\n",
        "train_x, train_y = shuffling(train_x, train_y)\n",
        "\n"
      ]
    },
    {
      "cell_type": "code",
      "execution_count": null,
      "id": "3346c831",
      "metadata": {
        "execution": {
          "iopub.execute_input": "2022-12-03T16:08:38.247791Z",
          "iopub.status.busy": "2022-12-03T16:08:38.247485Z",
          "iopub.status.idle": "2022-12-03T16:08:41.553774Z",
          "shell.execute_reply": "2022-12-03T16:08:41.552862Z"
        },
        "papermill": {
          "duration": 3.312878,
          "end_time": "2022-12-03T16:08:41.556207",
          "exception": false,
          "start_time": "2022-12-03T16:08:38.243329",
          "status": "completed"
        },
        "tags": [],
        "id": "3346c831"
      },
      "outputs": [],
      "source": [
        "batch_size = 32\n",
        "train_dataset = tf_dataset(train_x, train_y, batch=batch_size)\n",
        "valid_dataset = tf_dataset(valid_x, valid_y, batch=batch_size)"
      ]
    },
    {
      "cell_type": "code",
      "execution_count": null,
      "id": "5b57d3a7",
      "metadata": {
        "execution": {
          "iopub.execute_input": "2022-12-03T16:08:41.564758Z",
          "iopub.status.busy": "2022-12-03T16:08:41.563910Z",
          "iopub.status.idle": "2022-12-03T16:08:41.572355Z",
          "shell.execute_reply": "2022-12-03T16:08:41.571153Z"
        },
        "papermill": {
          "duration": 0.014745,
          "end_time": "2022-12-03T16:08:41.574399",
          "exception": false,
          "start_time": "2022-12-03T16:08:41.559654",
          "status": "completed"
        },
        "tags": [],
        "id": "5b57d3a7"
      },
      "outputs": [],
      "source": [
        "#Metrices\n",
        "import numpy as np\n",
        "import tensorflow as tf\n",
        "from tensorflow.keras import backend as K\n",
        "\n",
        "def iou(y_true, y_pred):\n",
        "    def f(y_true, y_pred):\n",
        "        intersection = (y_true * y_pred).sum()\n",
        "        union = y_true.sum() + y_pred.sum() - intersection\n",
        "        x = (intersection + 1e-15) / (union + 1e-15)\n",
        "        x = x.astype(np.float32)\n",
        "        return x\n",
        "    return tf.numpy_function(f, [y_true, y_pred], tf.float32)\n",
        "\n",
        "smooth = 1e-15\n",
        "def dice_coef(y_true, y_pred):\n",
        "    y_true = tf.keras.layers.Flatten()(y_true)\n",
        "    y_pred = tf.keras.layers.Flatten()(y_pred)\n",
        "    intersection = tf.reduce_sum(y_true * y_pred)\n",
        "    return (2.0 * intersection + smooth) / (tf.reduce_sum(y_true) + tf.reduce_sum(y_pred) + smooth)\n",
        "\n",
        "def dice_loss(y_true, y_pred):\n",
        "    return 1.0 - dice_coef(y_true, y_pred)"
      ]
    },
    {
      "cell_type": "code",
      "execution_count": null,
      "id": "dcc56f5d",
      "metadata": {
        "execution": {
          "iopub.execute_input": "2022-12-03T16:08:41.582049Z",
          "iopub.status.busy": "2022-12-03T16:08:41.581766Z",
          "iopub.status.idle": "2022-12-03T16:08:41.591810Z",
          "shell.execute_reply": "2022-12-03T16:08:41.590948Z"
        },
        "papermill": {
          "duration": 0.01635,
          "end_time": "2022-12-03T16:08:41.593912",
          "exception": false,
          "start_time": "2022-12-03T16:08:41.577562",
          "status": "completed"
        },
        "tags": [],
        "id": "dcc56f5d"
      },
      "outputs": [],
      "source": [
        "#Defining the structure of the model\n",
        "\n",
        "#This convolution part will also be included in encoder and decoder part of the network\n",
        "def Conv_Block(input,num_of_filter):\n",
        "    x=Conv2D(num_of_filter,3,padding=\"same\")(input)\n",
        "    x=BatchNormalization()(x)\n",
        "    x=Activation('ReLU')(x)\n",
        "\n",
        "    x=Conv2D(num_of_filter,3,padding=\"same\")(input)\n",
        "    x=BatchNormalization()(x)\n",
        "    x=Activation('ReLU')(x)\n",
        "    return x\n",
        "\n",
        "\n",
        "def Encoder(input,num_of_filter):\n",
        "    x = Conv_Block(input, num_of_filter) #Skip connection\n",
        "    p = MaxPool2D((2, 2))(x)  #Feature selection\n",
        "    x = Dropout(0.05)(x)\n",
        "    return x,p\n",
        "\n",
        "def Decoder(input, skip_features, num_of_filter):\n",
        "    x = Conv2DTranspose(num_of_filter, (2, 2), strides=2, padding=\"same\")(input)\n",
        "    x = Concatenate()([x, skip_features])\n",
        "    x = Dropout(0.05)(x)\n",
        "    x = Conv_Block(x, num_of_filter)\n",
        "    return x\n",
        "\n",
        "\n",
        "\n",
        "def UNET_Build(input_shape):\n",
        "    inputs=Input(input_shape)\n",
        "\n",
        "  #as you go down in the encoder,resolution decreases , number of filters doubles\n",
        "    s1,p1=Encoder(inputs,32)\n",
        "    s2,p2=Encoder(p1,64)\n",
        "    s3,p3=Encoder(p2,128)\n",
        "    s4,p4=Encoder(p3,256)\n",
        "\n",
        "    b1=Conv_Block(p4,512)\n",
        "\n",
        "    d1 = Decoder(b1, s4, 256)\n",
        "    d2 = Decoder(d1, s3, 128)\n",
        "    d3 = Decoder(d2, s2, 64)\n",
        "    d4 = Decoder(d3, s1, 32)\n",
        "\n",
        "    outputs = Conv2D(1, 1, padding=\"same\", activation=\"sigmoid\")(d4)  #our data is in grayscale, gives 0,1 output\n",
        "\n",
        "    model = Model(inputs, outputs, name=\"U-Net\")\n",
        "    return model  "
      ]
    },
    {
      "cell_type": "code",
      "execution_count": null,
      "id": "07f5e956",
      "metadata": {
        "execution": {
          "iopub.execute_input": "2022-12-03T16:08:41.601361Z",
          "iopub.status.busy": "2022-12-03T16:08:41.601105Z",
          "iopub.status.idle": "2022-12-03T16:08:42.026682Z",
          "shell.execute_reply": "2022-12-03T16:08:42.025734Z"
        },
        "papermill": {
          "duration": 0.434957,
          "end_time": "2022-12-03T16:08:42.032034",
          "exception": false,
          "start_time": "2022-12-03T16:08:41.597077",
          "status": "completed"
        },
        "tags": [],
        "id": "07f5e956",
        "outputId": "889e1c69-16de-4fc2-c071-9aca1c2342bb"
      },
      "outputs": [
        {
          "name": "stdout",
          "output_type": "stream",
          "text": [
            "Model: \"U-Net\"\n",
            "__________________________________________________________________________________________________\n",
            "Layer (type)                    Output Shape         Param #     Connected to                     \n",
            "==================================================================================================\n",
            "input_1 (InputLayer)            [(None, 256, 256, 3) 0                                            \n",
            "__________________________________________________________________________________________________\n",
            "conv2d_1 (Conv2D)               (None, 256, 256, 32) 896         input_1[0][0]                    \n",
            "__________________________________________________________________________________________________\n",
            "batch_normalization_1 (BatchNor (None, 256, 256, 32) 128         conv2d_1[0][0]                   \n",
            "__________________________________________________________________________________________________\n",
            "activation_1 (Activation)       (None, 256, 256, 32) 0           batch_normalization_1[0][0]      \n",
            "__________________________________________________________________________________________________\n",
            "max_pooling2d (MaxPooling2D)    (None, 128, 128, 32) 0           activation_1[0][0]               \n",
            "__________________________________________________________________________________________________\n",
            "conv2d_3 (Conv2D)               (None, 128, 128, 64) 18496       max_pooling2d[0][0]              \n",
            "__________________________________________________________________________________________________\n",
            "batch_normalization_3 (BatchNor (None, 128, 128, 64) 256         conv2d_3[0][0]                   \n",
            "__________________________________________________________________________________________________\n",
            "activation_3 (Activation)       (None, 128, 128, 64) 0           batch_normalization_3[0][0]      \n",
            "__________________________________________________________________________________________________\n",
            "max_pooling2d_1 (MaxPooling2D)  (None, 64, 64, 64)   0           activation_3[0][0]               \n",
            "__________________________________________________________________________________________________\n",
            "conv2d_5 (Conv2D)               (None, 64, 64, 128)  73856       max_pooling2d_1[0][0]            \n",
            "__________________________________________________________________________________________________\n",
            "batch_normalization_5 (BatchNor (None, 64, 64, 128)  512         conv2d_5[0][0]                   \n",
            "__________________________________________________________________________________________________\n",
            "activation_5 (Activation)       (None, 64, 64, 128)  0           batch_normalization_5[0][0]      \n",
            "__________________________________________________________________________________________________\n",
            "max_pooling2d_2 (MaxPooling2D)  (None, 32, 32, 128)  0           activation_5[0][0]               \n",
            "__________________________________________________________________________________________________\n",
            "conv2d_7 (Conv2D)               (None, 32, 32, 256)  295168      max_pooling2d_2[0][0]            \n",
            "__________________________________________________________________________________________________\n",
            "batch_normalization_7 (BatchNor (None, 32, 32, 256)  1024        conv2d_7[0][0]                   \n",
            "__________________________________________________________________________________________________\n",
            "activation_7 (Activation)       (None, 32, 32, 256)  0           batch_normalization_7[0][0]      \n",
            "__________________________________________________________________________________________________\n",
            "max_pooling2d_3 (MaxPooling2D)  (None, 16, 16, 256)  0           activation_7[0][0]               \n",
            "__________________________________________________________________________________________________\n",
            "conv2d_9 (Conv2D)               (None, 16, 16, 512)  1180160     max_pooling2d_3[0][0]            \n",
            "__________________________________________________________________________________________________\n",
            "batch_normalization_9 (BatchNor (None, 16, 16, 512)  2048        conv2d_9[0][0]                   \n",
            "__________________________________________________________________________________________________\n",
            "activation_9 (Activation)       (None, 16, 16, 512)  0           batch_normalization_9[0][0]      \n",
            "__________________________________________________________________________________________________\n",
            "conv2d_transpose (Conv2DTranspo (None, 32, 32, 256)  524544      activation_9[0][0]               \n",
            "__________________________________________________________________________________________________\n",
            "dropout_3 (Dropout)             (None, 32, 32, 256)  0           activation_7[0][0]               \n",
            "__________________________________________________________________________________________________\n",
            "concatenate (Concatenate)       (None, 32, 32, 512)  0           conv2d_transpose[0][0]           \n",
            "                                                                 dropout_3[0][0]                  \n",
            "__________________________________________________________________________________________________\n",
            "dropout_4 (Dropout)             (None, 32, 32, 512)  0           concatenate[0][0]                \n",
            "__________________________________________________________________________________________________\n",
            "conv2d_11 (Conv2D)              (None, 32, 32, 256)  1179904     dropout_4[0][0]                  \n",
            "__________________________________________________________________________________________________\n",
            "batch_normalization_11 (BatchNo (None, 32, 32, 256)  1024        conv2d_11[0][0]                  \n",
            "__________________________________________________________________________________________________\n",
            "activation_11 (Activation)      (None, 32, 32, 256)  0           batch_normalization_11[0][0]     \n",
            "__________________________________________________________________________________________________\n",
            "conv2d_transpose_1 (Conv2DTrans (None, 64, 64, 128)  131200      activation_11[0][0]              \n",
            "__________________________________________________________________________________________________\n",
            "dropout_2 (Dropout)             (None, 64, 64, 128)  0           activation_5[0][0]               \n",
            "__________________________________________________________________________________________________\n",
            "concatenate_1 (Concatenate)     (None, 64, 64, 256)  0           conv2d_transpose_1[0][0]         \n",
            "                                                                 dropout_2[0][0]                  \n",
            "__________________________________________________________________________________________________\n",
            "dropout_5 (Dropout)             (None, 64, 64, 256)  0           concatenate_1[0][0]              \n",
            "__________________________________________________________________________________________________\n",
            "conv2d_13 (Conv2D)              (None, 64, 64, 128)  295040      dropout_5[0][0]                  \n",
            "__________________________________________________________________________________________________\n",
            "batch_normalization_13 (BatchNo (None, 64, 64, 128)  512         conv2d_13[0][0]                  \n",
            "__________________________________________________________________________________________________\n",
            "activation_13 (Activation)      (None, 64, 64, 128)  0           batch_normalization_13[0][0]     \n",
            "__________________________________________________________________________________________________\n",
            "conv2d_transpose_2 (Conv2DTrans (None, 128, 128, 64) 32832       activation_13[0][0]              \n",
            "__________________________________________________________________________________________________\n",
            "dropout_1 (Dropout)             (None, 128, 128, 64) 0           activation_3[0][0]               \n",
            "__________________________________________________________________________________________________\n",
            "concatenate_2 (Concatenate)     (None, 128, 128, 128 0           conv2d_transpose_2[0][0]         \n",
            "                                                                 dropout_1[0][0]                  \n",
            "__________________________________________________________________________________________________\n",
            "dropout_6 (Dropout)             (None, 128, 128, 128 0           concatenate_2[0][0]              \n",
            "__________________________________________________________________________________________________\n",
            "conv2d_15 (Conv2D)              (None, 128, 128, 64) 73792       dropout_6[0][0]                  \n",
            "__________________________________________________________________________________________________\n",
            "batch_normalization_15 (BatchNo (None, 128, 128, 64) 256         conv2d_15[0][0]                  \n",
            "__________________________________________________________________________________________________\n",
            "activation_15 (Activation)      (None, 128, 128, 64) 0           batch_normalization_15[0][0]     \n",
            "__________________________________________________________________________________________________\n",
            "conv2d_transpose_3 (Conv2DTrans (None, 256, 256, 32) 8224        activation_15[0][0]              \n",
            "__________________________________________________________________________________________________\n",
            "dropout (Dropout)               (None, 256, 256, 32) 0           activation_1[0][0]               \n",
            "__________________________________________________________________________________________________\n",
            "concatenate_3 (Concatenate)     (None, 256, 256, 64) 0           conv2d_transpose_3[0][0]         \n",
            "                                                                 dropout[0][0]                    \n",
            "__________________________________________________________________________________________________\n",
            "dropout_7 (Dropout)             (None, 256, 256, 64) 0           concatenate_3[0][0]              \n",
            "__________________________________________________________________________________________________\n",
            "conv2d_17 (Conv2D)              (None, 256, 256, 32) 18464       dropout_7[0][0]                  \n",
            "__________________________________________________________________________________________________\n",
            "batch_normalization_17 (BatchNo (None, 256, 256, 32) 128         conv2d_17[0][0]                  \n",
            "__________________________________________________________________________________________________\n",
            "activation_17 (Activation)      (None, 256, 256, 32) 0           batch_normalization_17[0][0]     \n",
            "__________________________________________________________________________________________________\n",
            "conv2d_18 (Conv2D)              (None, 256, 256, 1)  33          activation_17[0][0]              \n",
            "==================================================================================================\n",
            "Total params: 3,838,497\n",
            "Trainable params: 3,835,553\n",
            "Non-trainable params: 2,944\n",
            "__________________________________________________________________________________________________\n"
          ]
        }
      ],
      "source": [
        "input_shape = (256, 256, 3)\n",
        "model = UNET_Build(input_shape)\n",
        "model.summary()"
      ]
    },
    {
      "cell_type": "code",
      "execution_count": null,
      "id": "c244ac4b",
      "metadata": {
        "execution": {
          "iopub.execute_input": "2022-12-03T16:08:42.040587Z",
          "iopub.status.busy": "2022-12-03T16:08:42.040302Z",
          "iopub.status.idle": "2022-12-03T16:08:42.045474Z",
          "shell.execute_reply": "2022-12-03T16:08:42.044450Z"
        },
        "papermill": {
          "duration": 0.011731,
          "end_time": "2022-12-03T16:08:42.047586",
          "exception": false,
          "start_time": "2022-12-03T16:08:42.035855",
          "status": "completed"
        },
        "tags": [],
        "id": "c244ac4b"
      },
      "outputs": [],
      "source": [
        "np.random.seed(42)\n",
        "tf.random.set_seed(42)\n",
        "batch_size = 32\n",
        "lr = 0.01\n",
        "num_epochs = 15"
      ]
    },
    {
      "cell_type": "code",
      "execution_count": null,
      "id": "12d20368",
      "metadata": {
        "execution": {
          "iopub.execute_input": "2022-12-03T16:08:42.056155Z",
          "iopub.status.busy": "2022-12-03T16:08:42.055207Z",
          "iopub.status.idle": "2022-12-03T16:08:42.438052Z",
          "shell.execute_reply": "2022-12-03T16:08:42.437170Z"
        },
        "papermill": {
          "duration": 0.389152,
          "end_time": "2022-12-03T16:08:42.440116",
          "exception": false,
          "start_time": "2022-12-03T16:08:42.050964",
          "status": "completed"
        },
        "tags": [],
        "id": "12d20368"
      },
      "outputs": [],
      "source": [
        "model = UNET_Build((H, W, 3))\n",
        "metrics = [dice_coef, iou, Recall(),Precision()]\n",
        "model.compile(loss=dice_loss, optimizer=Adam(lr), metrics=metrics)"
      ]
    },
    {
      "cell_type": "code",
      "execution_count": null,
      "id": "c05ef3f9",
      "metadata": {
        "execution": {
          "iopub.execute_input": "2022-12-03T16:08:42.449950Z",
          "iopub.status.busy": "2022-12-03T16:08:42.448338Z",
          "iopub.status.idle": "2022-12-03T16:08:42.832773Z",
          "shell.execute_reply": "2022-12-03T16:08:42.831054Z"
        },
        "papermill": {
          "duration": 0.395723,
          "end_time": "2022-12-03T16:08:42.839540",
          "exception": false,
          "start_time": "2022-12-03T16:08:42.443817",
          "status": "completed"
        },
        "tags": [],
        "id": "c05ef3f9"
      },
      "outputs": [],
      "source": [
        "model_weights = \"/kaggle/working/model_Droput_0.05\"\n",
        "csv_weights = \"/kaggle/working/data_model_dropout(0.05).csv\"\n",
        "\n",
        "callbacks = [\n",
        "    ModelCheckpoint( model_weights,verbose=1, save_best_only=True),\n",
        "    ReduceLROnPlateau(monitor='val_loss', factor=0.00001, patience=2, min_lr=1e-7, verbose=1),\n",
        "    TensorBoard(),\n",
        "    CSVLogger(csv_weights),\n",
        "    EarlyStopping(monitor='val_loss', patience=3, restore_best_weights=False),\n",
        "    ]"
      ]
    },
    {
      "cell_type": "code",
      "execution_count": null,
      "id": "88d35471",
      "metadata": {
        "execution": {
          "iopub.execute_input": "2022-12-03T16:08:42.861670Z",
          "iopub.status.busy": "2022-12-03T16:08:42.861274Z",
          "iopub.status.idle": "2022-12-03T17:51:33.278248Z",
          "shell.execute_reply": "2022-12-03T17:51:33.277223Z"
        },
        "papermill": {
          "duration": 6170.435432,
          "end_time": "2022-12-03T17:51:33.281335",
          "exception": false,
          "start_time": "2022-12-03T16:08:42.845903",
          "status": "completed"
        },
        "tags": [],
        "id": "88d35471",
        "outputId": "75a3e0af-3a13-4c3f-f40c-5c4dd4d5dd7b"
      },
      "outputs": [
        {
          "name": "stdout",
          "output_type": "stream",
          "text": [
            "Exection starting\n",
            "Epoch 1/15\n",
            "987/987 [==============================] - 572s 569ms/step - loss: 0.2623 - dice_coef: 0.7380 - iou: 0.6074 - recall: 0.7255 - precision: 0.4833 - val_loss: 0.3668 - val_dice_coef: 0.6329 - val_iou: 0.4697 - val_recall: 0.4938 - val_precision: 0.8923\n",
            "\n",
            "Epoch 00001: val_loss improved from inf to 0.36676, saving model to /kaggle/working/model_Droput_0.05\n",
            "Epoch 2/15\n",
            "987/987 [==============================] - 370s 374ms/step - loss: 0.0953 - dice_coef: 0.9047 - iou: 0.8294 - recall: 0.8819 - precision: 0.9307 - val_loss: 0.2138 - val_dice_coef: 0.7860 - val_iou: 0.6514 - val_recall: 0.7528 - val_precision: 0.8288\n",
            "\n",
            "Epoch 00002: val_loss improved from 0.36676 to 0.21379, saving model to /kaggle/working/model_Droput_0.05\n",
            "Epoch 3/15\n",
            "987/987 [==============================] - 365s 370ms/step - loss: 0.0554 - dice_coef: 0.9446 - iou: 0.8964 - recall: 0.9348 - precision: 0.9558 - val_loss: 0.2679 - val_dice_coef: 0.7317 - val_iou: 0.5821 - val_recall: 0.7429 - val_precision: 0.7390\n",
            "\n",
            "Epoch 00003: val_loss did not improve from 0.21379\n",
            "Epoch 4/15\n",
            "987/987 [==============================] - 407s 412ms/step - loss: 0.0411 - dice_coef: 0.9589 - iou: 0.9218 - recall: 0.9529 - precision: 0.9658 - val_loss: 0.0681 - val_dice_coef: 0.9319 - val_iou: 0.8742 - val_recall: 0.8871 - val_precision: 0.9819\n",
            "\n",
            "Epoch 00004: val_loss improved from 0.21379 to 0.06809, saving model to /kaggle/working/model_Droput_0.05\n",
            "Epoch 5/15\n",
            "987/987 [==============================] - 356s 360ms/step - loss: 0.0383 - dice_coef: 0.9617 - iou: 0.9270 - recall: 0.9563 - precision: 0.9681 - val_loss: 0.0422 - val_dice_coef: 0.9578 - val_iou: 0.9201 - val_recall: 0.9382 - val_precision: 0.9782\n",
            "\n",
            "Epoch 00005: val_loss improved from 0.06809 to 0.04224, saving model to /kaggle/working/model_Droput_0.05\n",
            "Epoch 6/15\n",
            "987/987 [==============================] - 401s 407ms/step - loss: 0.0333 - dice_coef: 0.9667 - iou: 0.9361 - recall: 0.9624 - precision: 0.9713 - val_loss: 0.1139 - val_dice_coef: 0.8862 - val_iou: 0.7987 - val_recall: 0.8149 - val_precision: 0.9714\n",
            "\n",
            "Epoch 00006: val_loss did not improve from 0.04224\n",
            "Epoch 7/15\n",
            "987/987 [==============================] - 400s 406ms/step - loss: 0.0298 - dice_coef: 0.9702 - iou: 0.9425 - recall: 0.9667 - precision: 0.9740 - val_loss: 0.0520 - val_dice_coef: 0.9478 - val_iou: 0.9024 - val_recall: 0.9199 - val_precision: 0.9786\n",
            "\n",
            "Epoch 00007: val_loss did not improve from 0.04224\n",
            "\n",
            "Epoch 00007: ReduceLROnPlateau reducing learning rate to 1e-07.\n",
            "Epoch 8/15\n",
            "987/987 [==============================] - 402s 407ms/step - loss: 0.0254 - dice_coef: 0.9746 - iou: 0.9507 - recall: 0.9687 - precision: 0.9804 - val_loss: 0.0289 - val_dice_coef: 0.9710 - val_iou: 0.9444 - val_recall: 0.9635 - val_precision: 0.9792\n",
            "\n",
            "Epoch 00008: val_loss improved from 0.04224 to 0.02894, saving model to /kaggle/working/model_Droput_0.05\n",
            "Epoch 9/15\n",
            "987/987 [==============================] - 352s 357ms/step - loss: 0.0254 - dice_coef: 0.9746 - iou: 0.9507 - recall: 0.9687 - precision: 0.9804 - val_loss: 0.0289 - val_dice_coef: 0.9711 - val_iou: 0.9444 - val_recall: 0.9635 - val_precision: 0.9792\n",
            "\n",
            "Epoch 00009: val_loss improved from 0.02894 to 0.02892, saving model to /kaggle/working/model_Droput_0.05\n",
            "Epoch 10/15\n",
            "987/987 [==============================] - 353s 358ms/step - loss: 0.0254 - dice_coef: 0.9746 - iou: 0.9507 - recall: 0.9688 - precision: 0.9803 - val_loss: 0.0289 - val_dice_coef: 0.9711 - val_iou: 0.9445 - val_recall: 0.9636 - val_precision: 0.9791\n",
            "\n",
            "Epoch 00010: val_loss improved from 0.02892 to 0.02890, saving model to /kaggle/working/model_Droput_0.05\n",
            "Epoch 11/15\n",
            "987/987 [==============================] - 356s 361ms/step - loss: 0.0254 - dice_coef: 0.9746 - iou: 0.9507 - recall: 0.9688 - precision: 0.9803 - val_loss: 0.0289 - val_dice_coef: 0.9711 - val_iou: 0.9445 - val_recall: 0.9637 - val_precision: 0.9791\n",
            "\n",
            "Epoch 00011: val_loss improved from 0.02890 to 0.02888, saving model to /kaggle/working/model_Droput_0.05\n",
            "Epoch 12/15\n",
            "987/987 [==============================] - 352s 357ms/step - loss: 0.0254 - dice_coef: 0.9746 - iou: 0.9507 - recall: 0.9689 - precision: 0.9802 - val_loss: 0.0289 - val_dice_coef: 0.9711 - val_iou: 0.9445 - val_recall: 0.9638 - val_precision: 0.9791\n",
            "\n",
            "Epoch 00012: val_loss improved from 0.02888 to 0.02885, saving model to /kaggle/working/model_Droput_0.05\n",
            "Epoch 13/15\n",
            "987/987 [==============================] - 401s 406ms/step - loss: 0.0254 - dice_coef: 0.9746 - iou: 0.9507 - recall: 0.9689 - precision: 0.9802 - val_loss: 0.0288 - val_dice_coef: 0.9712 - val_iou: 0.9446 - val_recall: 0.9638 - val_precision: 0.9790\n",
            "\n",
            "Epoch 00013: val_loss improved from 0.02885 to 0.02883, saving model to /kaggle/working/model_Droput_0.05\n",
            "Epoch 14/15\n",
            "987/987 [==============================] - 356s 361ms/step - loss: 0.0253 - dice_coef: 0.9747 - iou: 0.9509 - recall: 0.9691 - precision: 0.9802 - val_loss: 0.0288 - val_dice_coef: 0.9712 - val_iou: 0.9446 - val_recall: 0.9639 - val_precision: 0.9790\n",
            "\n",
            "Epoch 00014: val_loss improved from 0.02883 to 0.02881, saving model to /kaggle/working/model_Droput_0.05\n",
            "Epoch 15/15\n",
            "987/987 [==============================] - 403s 409ms/step - loss: 0.0253 - dice_coef: 0.9747 - iou: 0.9509 - recall: 0.9691 - precision: 0.9802 - val_loss: 0.0288 - val_dice_coef: 0.9712 - val_iou: 0.9447 - val_recall: 0.9640 - val_precision: 0.9790\n",
            "\n",
            "Epoch 00015: val_loss improved from 0.02881 to 0.02879, saving model to /kaggle/working/model_Droput_0.05\n"
          ]
        }
      ],
      "source": [
        "#with tf.device('/GPU:0'):\n",
        "tf.debugging.set_log_device_placement(True)\n",
        "with tf.device('/GPU:0'):\n",
        "    print(\"Exection starting\")\n",
        "    model.fit(train_dataset,epochs=num_epochs,validation_data=valid_dataset,callbacks=callbacks,shuffle=False )"
      ]
    },
    {
      "cell_type": "code",
      "execution_count": null,
      "id": "5cdd379c",
      "metadata": {
        "execution": {
          "iopub.execute_input": "2022-12-03T17:51:35.158001Z",
          "iopub.status.busy": "2022-12-03T17:51:35.157629Z",
          "iopub.status.idle": "2022-12-03T17:51:35.345371Z",
          "shell.execute_reply": "2022-12-03T17:51:35.344393Z"
        },
        "papermill": {
          "duration": 1.086781,
          "end_time": "2022-12-03T17:51:35.348261",
          "exception": false,
          "start_time": "2022-12-03T17:51:34.261480",
          "status": "completed"
        },
        "tags": [],
        "id": "5cdd379c"
      },
      "outputs": [],
      "source": [
        "model.save(\"UNET_Dropout(0.05).h5\")"
      ]
    }
  ],
  "metadata": {
    "kernelspec": {
      "display_name": "Python 3",
      "language": "python",
      "name": "python3"
    },
    "language_info": {
      "codemirror_mode": {
        "name": "ipython",
        "version": 3
      },
      "file_extension": ".py",
      "mimetype": "text/x-python",
      "name": "python",
      "nbconvert_exporter": "python",
      "pygments_lexer": "ipython3",
      "version": "3.7.12"
    },
    "papermill": {
      "default_parameters": {},
      "duration": 6208.120942,
      "end_time": "2022-12-03T17:51:39.568954",
      "environment_variables": {},
      "exception": null,
      "input_path": "__notebook__.ipynb",
      "output_path": "__notebook__.ipynb",
      "parameters": {},
      "start_time": "2022-12-03T16:08:11.448012",
      "version": "2.3.4"
    },
    "colab": {
      "provenance": []
    }
  },
  "nbformat": 4,
  "nbformat_minor": 5
}